{
 "cells": [
  {
   "cell_type": "markdown",
   "metadata": {},
   "source": [
    "# numpy 基础操作"
   ]
  },
  {
   "cell_type": "code",
   "execution_count": 34,
   "metadata": {},
   "outputs": [],
   "source": [
    "import numpy as np # 导入numpy库"
   ]
  },
  {
   "cell_type": "code",
   "execution_count": null,
   "metadata": {},
   "outputs": [],
   "source": [
    "x = np.array([1, 2, 1, 0, 3])\n",
    "y = np.array([-1, -1, 2, 1, 1])\n",
    "\n",
    "print(x - y) # 对位相减\n",
    "print(x + y) # 对位相加\n",
    "print(x * y) # 对位相乘\n",
    "print(x @ y) # 点积\n",
    "print(np.sqrt(x)) # 开根\n",
    "print(x ** 2) # 每一位平方\n",
    "print(np.sum(x)) # 求和"
   ]
  },
  {
   "cell_type": "markdown",
   "metadata": {},
   "source": [
    "提示：欧式距离计算公式$ \\sqrt{\\sum_{i=1}^{n}(x_i-y_i)^2} $"
   ]
  },
  {
   "cell_type": "code",
   "execution_count": 2,
   "metadata": {},
   "outputs": [],
   "source": [
    "# 计算x与y之间的欧式距离\n",
    "$$$$"
   ]
  },
  {
   "cell_type": "markdown",
   "metadata": {},
   "source": [
    "提示：余弦距离计算公式\n",
    "\n",
    "$$\n",
    "\\text { similarity }=\\cos (\\theta)=\\frac{A \\cdot B}{\\|A\\|\\|B\\|}=\\frac{\\sum_{i=1}^{n} A_{i} \\times B_{i}}{\\sqrt{\\sum_{i=1}^{n}\\left(A_{i}\\right)^{2}} \\times \\sqrt{\\sum_{i=1}^{n}\\left(B_{i}\\right)^{2}}}\n",
    "$$"
   ]
  },
  {
   "cell_type": "code",
   "execution_count": null,
   "metadata": {},
   "outputs": [],
   "source": [
    "# 计算x与y之间的cos距离\n",
    "$$$$"
   ]
  },
  {
   "cell_type": "code",
   "execution_count": null,
   "metadata": {},
   "outputs": [],
   "source": [
    "A = np.array([\n",
    "    [1, 0],\n",
    "    [0, -1],\n",
    "    [2, 2]\n",
    "])\n",
    "B = np.array([\n",
    "    [0, 1],\n",
    "    [-1, 1],\n",
    "    [1, 1]\n",
    "])\n",
    "C = np.array([\n",
    "    [1, 0],\n",
    "    [2, 1]\n",
    "])\n",
    "print(A + B) # 对位相加\n",
    "print(A * B) # 对位相乘\n",
    "print(A - B) # 对位相减\n",
    "print(A @ C) # 矩阵相乘"
   ]
  },
  {
   "cell_type": "markdown",
   "metadata": {},
   "source": [
    "# MNIST / CIFAR-10数据集处理与可视化"
   ]
  },
  {
   "cell_type": "code",
   "execution_count": null,
   "metadata": {},
   "outputs": [],
   "source": [
    "import os\n",
    "data_path = $$$$\n",
    "print(os.listdir(data_path))"
   ]
  },
  {
   "cell_type": "markdown",
   "metadata": {},
   "source": [
    "### MNIST数据集"
   ]
  },
  {
   "cell_type": "markdown",
   "metadata": {},
   "source": [
    "首先我们读取MNIST数据集"
   ]
  },
  {
   "cell_type": "code",
   "execution_count": 40,
   "metadata": {},
   "outputs": [],
   "source": [
    "import pandas as pd # data processing, CSV file I/O (e.g. pd.read_csv)\n",
    "mnist_train = pd.read_csv(data_path + \"mnist_train.csv\")\n",
    "mnist_test = pd.read_csv(data_path + \"mnist_test.csv\")"
   ]
  },
  {
   "cell_type": "code",
   "execution_count": null,
   "metadata": {},
   "outputs": [],
   "source": [
    "print(\"原始数据集的形状：\")\n",
    "print(mnist_train.shape)\n",
    "print(mnist_test.shape)\n",
    "print(\"原始数据集的类型：\")\n",
    "print(type(mnist_train))"
   ]
  },
  {
   "cell_type": "code",
   "execution_count": null,
   "metadata": {},
   "outputs": [],
   "source": [
    "# pandas类下的DataFrame对象，可以理解成一个excel表格，每列有个名字\n",
    "# 需要用iloc才能用下标访问\n",
    "mnist_train.iloc[:5]"
   ]
  },
  {
   "cell_type": "markdown",
   "metadata": {},
   "source": [
    "重点：第一列的列名为label，表示标签\n",
    "\n",
    "问题：怎么处理这玩意？"
   ]
  },
  {
   "cell_type": "code",
   "execution_count": null,
   "metadata": {},
   "outputs": [],
   "source": [
    "# 可以用np.array把Dataframe变成我们熟悉的数组\n",
    "print(np.array(mnist_train.iloc[0]).shape)\n",
    "print(np.array(mnist_train.iloc[0]))"
   ]
  },
  {
   "cell_type": "markdown",
   "metadata": {},
   "source": [
    "观察结果，第1个数为标签，后面的784个数（784 = 28 * 28）为图片。因此：\n",
    "\n",
    "- 把图片取出来放进x，把标签取出来放进y\n",
    "- 把图片变成28 * 28的形状\n",
    "\n",
    "再看一下原始数据集的形状"
   ]
  },
  {
   "cell_type": "code",
   "execution_count": null,
   "metadata": {},
   "outputs": [],
   "source": [
    "print(\"原始数据集的形状：\")\n",
    "print(mnist_train.shape)\n",
    "print(mnist_test.shape)"
   ]
  },
  {
   "cell_type": "code",
   "execution_count": 45,
   "metadata": {},
   "outputs": [],
   "source": [
    "mnist_x_train = np.array(mnist_train.iloc[:, 1:]).reshape(-1, 28, 28)\n",
    "mnist_y_train = np.array(mnist_train.iloc[:, 0])\n",
    "mnist_x_test = np.array(mnist_test.iloc[:, 1:]).reshape(-1, 28, 28)\n",
    "mnist_y_test = np.array(mnist_test.iloc[:, 0])"
   ]
  },
  {
   "cell_type": "markdown",
   "metadata": {},
   "source": [
    "numpy.reshape( ) 函数可以在不改变数据的条件下修改形状，\n",
    "\n",
    "格式如下： numpy.reshape(arr, newshape, order='C')\n",
    "* arr：要修改形状的数组\n",
    "* newshape：整数或者整数数组，新的形状应当兼容原有形状\n",
    "* order：'C' -- 按行，'F' -- 按列，'A' -- 原顺序，'k' -- 元素在内存中的出现顺序。\n",
    "\n",
    "下面我们来看看这个函数具体是怎么使用的："
   ]
  },
  {
   "cell_type": "code",
   "execution_count": null,
   "metadata": {},
   "outputs": [],
   "source": [
    "a = np.arange(8)\n",
    "print ('原始数组：', a, '\\n')\n",
    " \n",
    "b = a.reshape(4,2)\n",
    "print ('修改后的数组：\\n', b)"
   ]
  },
  {
   "cell_type": "code",
   "execution_count": null,
   "metadata": {},
   "outputs": [],
   "source": [
    "print(\"处理好的形状：\")\n",
    "# 将reshape后的四个数据集的形状打印出来\n",
    "$$$$\n",
    "$$$$\n",
    "$$$$\n",
    "$$$$"
   ]
  },
  {
   "cell_type": "markdown",
   "metadata": {},
   "source": [
    "训练数据x_train和y_train中包含了60000个数据点，\n",
    "\n",
    "测试数据x_test和y_test中则包含了10000个数据点。\n",
    "\n",
    "其中：\n",
    "\n",
    "* 输入x：60000张28x28=784像素组成的图像，由于MNIST数据集是灰度图，所以每个像素仅由一个数字表示；\n",
    "\n",
    "* 输出y：60000个数字，代表了每一张图像对应的数字几。"
   ]
  },
  {
   "cell_type": "code",
   "execution_count": null,
   "metadata": {},
   "outputs": [],
   "source": [
    "from matplotlib import pyplot as plt\n",
    "\n",
    "fig, axes = plt.subplots(2, 5, figsize=(10, 4)) # 新建一个包含10张子图2行5列的画布\n",
    "\n",
    "# axes中存储了每一个子图\n",
    "# flatten() 把 axes 从 shape = (2,5) 拉成 shape = (10,)\n",
    "axes = axes.flatten() \n",
    "\n",
    "print(\"标签：\", mnist_y_train[:10])\n",
    "for i in range(10): # 循环10次（画10张图）\n",
    "\n",
    "    # 将x_train的第i张图画在第i个子图上，这里我们用cmap=\"gray_r\"即反灰度图，数字越大颜色越黑，数字越小颜色越白 \n",
    "    axes[i].imshow(mnist_x_train[i], cmap=\"gray_r\")\n",
    "    \n",
    "    axes[i].set_xticks([]) # 移除图像的x轴刻度\n",
    "    axes[i].set_yticks([]) # 移除图像的y轴刻度\n",
    "\n",
    "plt.tight_layout() # 采用更美观的布局方式\n",
    "plt.show() # 显示图片"
   ]
  },
  {
   "cell_type": "markdown",
   "metadata": {},
   "source": [
    "接下来对于0到9每一个数字，我们使用下列代码画出10张对应的手写数字图片。"
   ]
  },
  {
   "cell_type": "markdown",
   "metadata": {},
   "source": [
    "numpy.where( )函数返回输入数组中满足给定条件的元素的索引。\n",
    "\n",
    "下面我们来看看这个函数具体是怎么使用的："
   ]
  },
  {
   "cell_type": "code",
   "execution_count": null,
   "metadata": {},
   "outputs": [],
   "source": [
    "x = np.array([1, 2, 1, 0, 3])\n",
    "y = np.array([-1, -1, 2, 1, 1])\n",
    "\n",
    "print(\"数组x:\", x)\n",
    "t = np.where(x > 1)\n",
    "print(\"大于1的元素的索引:\", t)\n",
    "print(\"使用这些索引来获取满足条件的元素:\", x[t], '\\n')\n",
    "\n",
    "print(\"数组y:\", y)\n",
    "print(\"x比y大的元素的索引:\", np.where(x > y))"
   ]
  },
  {
   "cell_type": "code",
   "execution_count": null,
   "metadata": {},
   "outputs": [],
   "source": [
    "fig, axes = plt.subplots(10, 10, figsize=(20, 20)) # 新建一个包含100张子图的10行10列的画布\n",
    "\n",
    "for i in range(10): # 对于每一个数字i\n",
    "    \n",
    "    indice = np.where(mnist_y_train == i)[0] #找到标签为数字i的图像下标\n",
    "    print(indice)\n",
    "    \n",
    "    for j in range(10): # 输出前10张图片\n",
    "        axes[i][j].imshow(mnist_x_train[indice[j]], cmap=\"gray_r\")\n",
    "        \n",
    "        axes[i][j].set_xticks([])\n",
    "        axes[i][j].set_yticks([])\n",
    "\n",
    "plt.tight_layout()\n",
    "plt.show()"
   ]
  },
  {
   "cell_type": "markdown",
   "metadata": {},
   "source": [
    "可以看到MNIST数据集中包含了笔画轻重各异、书写风格不同的图片。\n",
    "\n",
    "数据集中的数据多样性很重要，计算机“见过”的数据越多，分类就能越准确。\n",
    "\n",
    "直观上理解，若计算机“见过”的都是右撇子写的数字，这时新来了一张图片是由左撇子书写的，\n",
    "\n",
    "因为左撇子写的数字与右撇子会有一些差异，那么它大概率会识别错误；\n",
    "\n",
    "反之如果计算机曾经“见过”左撇子写的数字，它识别正确的可能性就会提升。"
   ]
  },
  {
   "cell_type": "markdown",
   "metadata": {},
   "source": [
    "### CIFAR-10 数据集"
   ]
  },
  {
   "cell_type": "markdown",
   "metadata": {},
   "source": [
    "首先我们先加载CIFAR-10数据集。"
   ]
  },
  {
   "cell_type": "code",
   "execution_count": 50,
   "metadata": {},
   "outputs": [],
   "source": [
    "import pickle\n",
    "with open(data_path + \"cifar10.pkl\", \"rb\") as f:\n",
    "    (cifar10_x_train, cifar10_y_train), (cifar10_x_test, cifar10_y_test) = pickle.load(f)"
   ]
  },
  {
   "cell_type": "markdown",
   "metadata": {},
   "source": [
    "我们使用keras的cifar10模块下载CIFAR-10数据集\n",
    "\n",
    "数据集已经被分为训练数据与测试数据，分别包含了输入x（即图像）和输出y（即对应的物体）。\n",
    "\n",
    "我们将四个数据集的形状打印出来。"
   ]
  },
  {
   "cell_type": "code",
   "execution_count": null,
   "metadata": {},
   "outputs": [],
   "source": [
    "# 打印四个数据集的形状\n",
    "$$$$\n",
    "$$$$\n",
    "$$$$\n",
    "$$$$\n",
    "print(type(cifar10_x_train))"
   ]
  },
  {
   "cell_type": "markdown",
   "metadata": {},
   "source": [
    "CIFAR-10数据集中包含了50000个训练数据与10000个测试数据。\n",
    "\n",
    "可以看到与MNIST数据集不同，CIFAR-10数据集中的图片是RGB格式的彩色图片，\n",
    "\n",
    "每张图片大小为32*32*3，即每张图片含有32*32=1024个像素点，\n",
    "\n",
    "而每个像素点由3个数字组成，分别代表红色、绿色、蓝色通道。\n",
    "\n",
    "输出y依然由一个数字表示，0到9这10个数字分别代表10类物体。\n",
    "\n",
    "> 0：飞机，1：汽车，2：鸟，3：猫，4：鹿，5：狗，6：青蛙，7：马，8：船，9：卡车"
   ]
  },
  {
   "cell_type": "code",
   "execution_count": 52,
   "metadata": {},
   "outputs": [],
   "source": [
    "cifar10_class_dict = {\n",
    "    0: \"飞机\",\n",
    "    1: \"汽车\",\n",
    "    2: \"鸟\",\n",
    "    3: \"猫\",\n",
    "    4: \"鹿\",\n",
    "    5: \"狗\",\n",
    "    6: \"青蛙\",\n",
    "    7: \"马\",\n",
    "    8: \"船\",\n",
    "    9: \"卡车\"\n",
    "}"
   ]
  },
  {
   "cell_type": "markdown",
   "metadata": {},
   "source": [
    "我们使用matplotlib库将训练数据中的前十张图像画出来。"
   ]
  },
  {
   "cell_type": "code",
   "execution_count": null,
   "metadata": {
    "scrolled": true
   },
   "outputs": [],
   "source": [
    "fig, axes = $$$$ # 新建一个包含10张子图2行5列的画布\n",
    "axes = axes.flatten() # axes中存储了每一个子图\n",
    "\n",
    "print(\"标签：\")\n",
    "for i in range(10): # 循环10次（画10张图）\n",
    "    print(cifar10_class_dict[cifar10_y_train[i][0]], end=\" \")\n",
    "    $$$$ # 将x_train的第i张图画在第i个子图上\n",
    "    \n",
    "    $$$$ # 移除图像的x轴刻度\n",
    "    $$$$ # 移除图像的y轴刻度\n",
    "\n",
    "plt.tight_layout()\n",
    "plt.show()"
   ]
  },
  {
   "cell_type": "markdown",
   "metadata": {},
   "source": [
    "与前一节中MNIST相似，我们对于每一类物体，画出10张图片。"
   ]
  },
  {
   "cell_type": "code",
   "execution_count": null,
   "metadata": {},
   "outputs": [],
   "source": [
    "fig, axes = $$$$ # 新建一个包含100张子图的10行10列的画布\n",
    "\n",
    "for i in range(10): # 对于每一类物体\n",
    "    indice = $$$$ #找到标签为i的图像下标\n",
    "    print(indice)\n",
    "    \n",
    "    for j in range(10): # 输出前10张图片\n",
    "        $$$$ # 将x_train对应indice中下标的图画在第i个子图上\n",
    "        \n",
    "        $$$$ # 移除图像的x轴刻度\n",
    "        $$$$ # 移除图像的y轴刻度\n",
    "\n",
    "plt.tight_layout()\n",
    "plt.show()"
   ]
  },
  {
   "cell_type": "markdown",
   "metadata": {},
   "source": [
    "> 0：飞机，1：汽车，2：鸟，3：猫，4：鹿，5：狗，6：青蛙，7：马，8：船，9：卡车\n",
    "\n",
    "可以看到CIFAR-10数据集中的每一类物体，都包含形状、颜色、拍摄角度不同的图片，并且图片中还含有一些不相关的元素。"
   ]
  },
  {
   "cell_type": "markdown",
   "metadata": {},
   "source": [
    "# K近邻算法进行手写数字分类"
   ]
  },
  {
   "cell_type": "code",
   "execution_count": null,
   "metadata": {},
   "outputs": [],
   "source": [
    "print(\"处理好的形状：\")\n",
    "print(mnist_x_train.shape)\n",
    "print(mnist_x_test.shape)\n",
    "print(mnist_y_train.shape)\n",
    "print(mnist_y_test.shape)\n",
    "\n",
    "mnist_n_train = mnist_x_train.shape[0] # 训练数据数量\n",
    "mnist_n_test = mnist_x_test.shape[0] # 测试数据数量\n",
    "\n",
    "# 使用reshape方法将二维图像展开一维成向量，便于后续使用欧式距离计算相似度\n",
    "mnist_x_train = mnist_x_train.reshape(mnist_n_train, -1) \n",
    "mnist_x_test = mnist_x_test.reshape(mnist_n_test, -1)\n",
    "print(\"reshape后输入数据的数据形状\")\n",
    "$$$$\n",
    "$$$$"
   ]
  },
  {
   "cell_type": "markdown",
   "metadata": {},
   "source": [
    "可以看到reshape后的训练数据的输入变成了60000个28*28=784维的向量"
   ]
  },
  {
   "cell_type": "markdown",
   "metadata": {},
   "source": [
    "接下来我们调用sklearn中的K近邻算法，首先，我们导入一些必要的库\n",
    "- KNeighborsClassifier：sklearn库中提供的K近邻算法类\n",
    "\n",
    "K近邻算法会接受一个参数 n_neighbors，也就是查看邻居的个数K。\n",
    "\n",
    "我们先尝试将k设为5，即每次寻找最近的5个邻居。"
   ]
  },
  {
   "cell_type": "code",
   "execution_count": 60,
   "metadata": {},
   "outputs": [],
   "source": [
    "from sklearn.neighbors import KNeighborsClassifier\n",
    "\n",
    "k = 5\n",
    "knc = KNeighborsClassifier(n_neighbors=k)"
   ]
  },
  {
   "cell_type": "markdown",
   "metadata": {},
   "source": [
    "接下来我们使用手写数字数据来训练这个K近邻分类器，\n",
    "\n",
    "* sklearn库中一个非常方便的函数 fit：接收两个参数 x 和 y， 分别输入数据和对应的标签。\n",
    "\n",
    "* 把x_train和y_train作为参数传给 fit 函数，即完成了K近邻分类器的训练。\n",
    "\n",
    "（训练过程需要花一些时间）"
   ]
  },
  {
   "cell_type": "code",
   "execution_count": null,
   "metadata": {},
   "outputs": [],
   "source": [
    "knc.fit(mnist_x_train[:5000], mnist_y_train[:5000])"
   ]
  },
  {
   "cell_type": "markdown",
   "metadata": {},
   "source": [
    "训练完毕！\n",
    "\n",
    "我们使用predict方法对测试集中的100个数据进行分类，并将分类结果其存到y_predict中。\n",
    "\n",
    "（预测也需要花一些时间）"
   ]
  },
  {
   "cell_type": "code",
   "execution_count": 62,
   "metadata": {},
   "outputs": [],
   "source": [
    "mnist_y_predict = knc.predict(mnist_x_test[:1000])"
   ]
  },
  {
   "cell_type": "code",
   "execution_count": null,
   "metadata": {},
   "outputs": [],
   "source": [
    "$$$$ # 把y_predict的形状打印出来看看\n",
    "$$$$ # 打印前10个y_predict的结果"
   ]
  },
  {
   "cell_type": "markdown",
   "metadata": {},
   "source": [
    "将我们的分类结果y_predict与真实的类别y_test进行一一对比，统计分类正确的个数并计算分类准确度。\n",
    "\n",
    "问题：怎么比？"
   ]
  },
  {
   "cell_type": "code",
   "execution_count": null,
   "metadata": {},
   "outputs": [],
   "source": [
    "print(mnist_y_predict[:100] == mnist_y_test[:100])"
   ]
  },
  {
   "cell_type": "code",
   "execution_count": null,
   "metadata": {},
   "outputs": [],
   "source": [
    "accuracy = np.sum(mnist_y_predict == mnist_y_test[:1000]) / 1000\n",
    "print(\"准确度为 %f\" % accuracy)"
   ]
  },
  {
   "cell_type": "markdown",
   "metadata": {},
   "source": [
    "可以看到我们仅仅用了不到10行代码，就得到了一个分类准确度为91.00%的手写数字分类器！\n",
    "\n",
    "怎么样？是不是没有想象中那么复杂？\n",
    "\n",
    "在机器学习领域，有非常多个人和组织，会将已有的算法实现，打包成一个个库，降低其他人使用算法的门槛。\n",
    "\n",
    "找到并使用这些工具，是每个对机器学习感兴趣的人必备的技能。"
   ]
  },
  {
   "cell_type": "markdown",
   "metadata": {},
   "source": [
    "1000张图像中，我们分错了90张，让我们看看哪些图像分类错误了。"
   ]
  },
  {
   "cell_type": "code",
   "execution_count": null,
   "metadata": {},
   "outputs": [],
   "source": [
    "print(mnist_y_predict[:100] != mnist_y_test[:100])\n",
    "print($$$$) # 打印出前100张图中分类错误的图像对应的索引"
   ]
  },
  {
   "cell_type": "code",
   "execution_count": null,
   "metadata": {},
   "outputs": [],
   "source": [
    "indice = np.random.choice(np.where(mnist_y_predict != mnist_y_test[:1000])[0], size=10) # 随机选择10张分类错误的图像\n",
    "fig, axes = plt.subplots(2, 5, figsize=(10, 4))\n",
    "axes = axes.flatten()\n",
    "for i, idx in enumerate(indice):\n",
    "    axes[i].imshow(mnist_x_test[idx].reshape(28, 28), cmap=\"gray_r\")\n",
    "    axes[i].set_xticks([])\n",
    "    axes[i].set_yticks([])\n",
    "    axes[i].set_title(\"y_predict: %d\\ny_test: %d\" % (mnist_y_predict[idx], mnist_y_test[idx]))\n",
    "plt.tight_layout()\n",
    "plt.show()"
   ]
  },
  {
   "cell_type": "markdown",
   "metadata": {},
   "source": [
    "### 下面我们再来看看K近邻算法在CIFAR-10数据集上的表现"
   ]
  },
  {
   "cell_type": "code",
   "execution_count": null,
   "metadata": {},
   "outputs": [],
   "source": [
    "import pickle\n",
    "with open(data_path + \"cifar10.pkl\", \"rb\") as f:\n",
    "    (cifar10_x_train, cifar10_y_train), (cifar10_x_test, cifar10_y_test) = pickle.load(f)\n",
    "\n",
    "print(cifar10_x_train.shape)\n",
    "print(cifar10_x_test.shape)\n",
    "print(cifar10_y_train.shape)\n",
    "print(cifar10_y_test.shape)"
   ]
  },
  {
   "cell_type": "code",
   "execution_count": null,
   "metadata": {},
   "outputs": [],
   "source": [
    "# 将第一维固定为shape[0]，-1表示第二维不固定\n",
    "cifar10_x_train = cifar10_x_train.reshape(cifar10_x_train.shape[0], -1)\n",
    "cifar10_x_test = $$$$\n",
    "\n",
    "# flatten()返回一份数组按行展开的拷贝，对拷贝所做的修改不会影响原始数组，\n",
    "cifar10_y_train = cifar10_y_train.flatten()\n",
    "cifar10_y_test = $$$$\n",
    "\n",
    "print(\"reshape后输入数据的数据形状\")\n",
    "$$$$\n",
    "$$$$\n",
    "$$$$\n",
    "$$$$"
   ]
  },
  {
   "cell_type": "code",
   "execution_count": null,
   "metadata": {},
   "outputs": [],
   "source": [
    "# 训练过程\n",
    "knc = KNeighborsClassifier(n_neighbors=5)\n",
    "\n",
    "cifar10_n_train = 2000\n",
    "$$$$ # 使用fit函数对前2000个数据进行训练"
   ]
  },
  {
   "cell_type": "code",
   "execution_count": null,
   "metadata": {},
   "outputs": [],
   "source": [
    "# 测试过程\n",
    "cifar10_n_test = 100\n",
    "$$$$ # 使用predict函数对前100个数据进行测试\n",
    "print(cifar10_y_predict == cifar10_y_test[:100])"
   ]
  },
  {
   "cell_type": "code",
   "execution_count": null,
   "metadata": {},
   "outputs": [],
   "source": [
    "# 计算并输出100个数据中预测的正确率\n",
    "$$$$\n",
    "print(\"准确度为 %f\" % accuracy)"
   ]
  },
  {
   "cell_type": "code",
   "execution_count": null,
   "metadata": {},
   "outputs": [],
   "source": [
    "# 解决中文显示问题\n",
    "plt.rcParams['font.sans-serif']=['SimHei']\n",
    "plt.rcParams['axes.unicode_minus'] = False\n",
    "\n",
    "indice = np.random.choice($$$$, size=10) # 随机选择10张分类错误的图像\n",
    "fig, axes = plt.subplots(2, 5, figsize=(10, 4))\n",
    "axes = axes.flatten()\n",
    "for i, idx in enumerate(indice):\n",
    "    $$$$ # 将测试集上idx对应的图片reshape成32*32*3后画在第i张图上\n",
    "    $$$$ # 移除图像的x轴刻度\n",
    "    $$$$ # 移除图像的y轴刻度\n",
    "    $$$$ # 在图的上方设置标题，标注分类正确的结果y_predict和分类错误的结果y_test\n",
    "    \n",
    "plt.tight_layout()\n",
    "plt.show()"
   ]
  }
 ],
 "metadata": {
  "kernelspec": {
   "display_name": "Python 3",
   "language": "python",
   "name": "python3"
  },
  "language_info": {
   "codemirror_mode": {
    "name": "ipython",
    "version": 3
   },
   "file_extension": ".py",
   "mimetype": "text/x-python",
   "name": "python",
   "nbconvert_exporter": "python",
   "pygments_lexer": "ipython3",
   "version": "3.7.1"
  }
 },
 "nbformat": 4,
 "nbformat_minor": 4
}
